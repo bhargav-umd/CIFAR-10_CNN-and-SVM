{
 "cells": [
  {
   "cell_type": "code",
   "execution_count": 2,
   "metadata": {},
   "outputs": [],
   "source": [
    "import numpy as np\n",
    "import matplotlib\n",
    "import matplotlib.pyplot as plt\n",
    "from skimage import data\n",
    "from skimage.transform import rotate\n",
    "from skimage.feature import local_binary_pattern\n",
    "from skimage import data\n",
    "import cv2\n",
    "\n",
    "import torchvision.transforms as transforms\n",
    "import torchvision\n",
    "import torch\n",
    "import torchvision.datasets as dsets\n",
    "from sklearn.svm import LinearSVC\n",
    "from sklearn import metrics\n",
    "from sklearn.multiclass import OneVsRestClassifier"
   ]
  },
  {
   "cell_type": "code",
   "execution_count": 3,
   "metadata": {},
   "outputs": [
    {
     "name": "stdout",
     "output_type": "stream",
     "text": [
      "Files already downloaded and verified\n",
      "Files already downloaded and verified\n"
     ]
    }
   ],
   "source": [
    "METHOD = 'uniform'\n",
    "radius = 1\n",
    "n_points = 8 * radius\n",
    "\n",
    "trans = transforms.Compose([transforms.Grayscale(num_output_channels=1), transforms.ToTensor()])\n",
    "training_set = dsets.CIFAR10(root='./data', train=True,  transform=trans, download=True)\n",
    "testing_set = dsets.CIFAR10(root='./data', train=False, transform=trans, download=True)\n",
    "\n",
    "def hist(ax, lbp):\n",
    "    n_bins = int(lbp.max() + 1)\n",
    "    return ax.hist(lbp.ravel(), normed=True, bins=n_bins, range=(0, n_bins),\n",
    "                   facecolor='0.5')\n",
    "\n",
    "def print_lbp_img(img, lbp_img, histogram):\n",
    "    '''\n",
    "    :param img: original image\n",
    "    :param lbp_img: lbp image\n",
    "    :param histogram: histogram of the lbp image\n",
    "    :return: print the figure\n",
    "    '''\n",
    "    return True\n",
    "\n",
    "\n",
    "def lbp_piece_vec(img, method, p, r, regions=4):\n",
    "    '''\n",
    "    :param img: input grayscale image\n",
    "    :param method: LBP method\n",
    "    :param p: number of neighbors\n",
    "    :param r: radius\n",
    "    :param regions: number of regions divided\n",
    "    :return: lbp vector\n",
    "    '''\n",
    "    # crop the 32x32 image into 4 8x8 regions\n",
    "    pieces = []\n",
    "    vectors = []\n",
    "    for i in range(regions):\n",
    "        for j in range(regions):\n",
    "            pieces.append(img[8*i:8*(i+1), 8*j:8*(j+1)])\n",
    "\n",
    "    for piece in pieces:\n",
    "        lbp = local_binary_pattern(piece, p, r, method)\n",
    "        his, _ = np.histogram(lbp, normed=True, bins=p+2, range=(0, p+2))\n",
    "        vectors.append(his)\n",
    "\n",
    "    return np.concatenate(vectors)\n",
    "\n",
    "def lbp_vec(img, method, p, r):\n",
    "    '''\n",
    "    :param img: input grayscale image\n",
    "    :param method: LBP method\n",
    "    :param p: number of neighbors\n",
    "    :param r: radius\n",
    "    :return: lbp vector\n",
    "    '''\n",
    "    # convert a single image into graph directly\n",
    "    lbp = local_binary_pattern(img, p, r, method)\n",
    "    his, _ = np.histogram(lbp, normed=True, bins=p+2, range=(0, p+2))\n",
    "    return his\n",
    "\n",
    "def LBP_data(training_set, testing_set):\n",
    "    '''\n",
    "    :param training_set:\n",
    "    :param testing_set:\n",
    "    :return: array like training and testing data\n",
    "    '''\n",
    "    train_lbp_vectors = []\n",
    "    train_labels = []\n",
    "\n",
    "    for img, lab in training_set:\n",
    "        img = img.numpy().squeeze()\n",
    "        vector = lbp_vec(img, METHOD, n_points, radius)\n",
    "        train_lbp_vectors.append(np.expand_dims(vector, axis=0))\n",
    "        train_labels.append(lab)\n",
    "\n",
    "    train_img = np.concatenate(train_lbp_vectors, axis=0)\n",
    "    train_lab = np.array(train_labels)\n",
    "\n",
    "\n",
    "    test_lbp_vectors = []\n",
    "    test_labels = []\n",
    "\n",
    "    for img, lab in testing_set:\n",
    "        img = img.numpy().squeeze()\n",
    "        vector = lbp_vec(img, METHOD, n_points, radius)\n",
    "        test_lbp_vectors.append(np.expand_dims(vector, axis=0))\n",
    "        test_labels.append(lab)\n",
    "\n",
    "    test_img = np.concatenate(test_lbp_vectors, axis=0)\n",
    "    test_lab = np.array(test_labels)\n",
    "\n",
    "    return train_img, train_lab, test_img, test_lab"
   ]
  },
  {
   "cell_type": "code",
   "execution_count": 4,
   "metadata": {},
   "outputs": [
    {
     "name": "stderr",
     "output_type": "stream",
     "text": [
      "/home/bob/.virtualenvs/virtual-py3/lib/python3.5/site-packages/ipykernel_launcher.py:57: VisibleDeprecationWarning: Passing `normed=True` on non-uniform bins has always been broken, and computes neither the probability density function nor the probability mass function. The result is only correct if the bins are uniform, when density=True will produce the same result anyway. The argument will be removed in a future version of numpy.\n"
     ]
    },
    {
     "name": "stdout",
     "output_type": "stream",
     "text": [
      "<class 'numpy.ndarray'> (50000, 10)\n",
      "<class 'numpy.ndarray'> (10000, 10)\n",
      "finished the processing of images\n",
      "fit the model\n",
      "Classification report for classifier LinearSVC(C=100.0, class_weight=None, dual=True, fit_intercept=True,\n",
      "     intercept_scaling=1, loss='squared_hinge', max_iter=1000,\n",
      "     multi_class='ovr', penalty='l2', random_state=42, tol=0.0001,\n",
      "     verbose=0):\n",
      "              precision    recall  f1-score   support\n",
      "\n",
      "           0       0.31      0.50      0.38      1000\n",
      "           1       0.29      0.51      0.37      1000\n",
      "           2       0.11      0.01      0.02      1000\n",
      "           3       0.23      0.03      0.05      1000\n",
      "           4       0.26      0.30      0.28      1000\n",
      "           5       0.26      0.46      0.33      1000\n",
      "           6       0.30      0.68      0.42      1000\n",
      "           7       0.31      0.05      0.08      1000\n",
      "           8       0.28      0.06      0.10      1000\n",
      "           9       0.25      0.21      0.23      1000\n",
      "\n",
      "   micro avg       0.28      0.28      0.28     10000\n",
      "   macro avg       0.26      0.28      0.23     10000\n",
      "weighted avg       0.26      0.28      0.23     10000\n",
      "\n",
      "\n"
     ]
    },
    {
     "name": "stderr",
     "output_type": "stream",
     "text": [
      "/home/bob/.virtualenvs/virtual-py3/lib/python3.5/site-packages/sklearn/svm/base.py:922: ConvergenceWarning: Liblinear failed to converge, increase the number of iterations.\n",
      "  \"the number of iterations.\", ConvergenceWarning)\n"
     ]
    }
   ],
   "source": [
    "train_img, train_lab, test_img, test_lab = LBP_data(training_set, testing_set)\n",
    "\n",
    "# train_img, train_lab, test_img, test_lab = np.load('train_img.npy'), np.load('train_lab.npy'), np.load('test_img.npy'), np.load('test_lab.npy')\n",
    "\n",
    "print(type(train_img), train_img.shape)\n",
    "print(type(test_img), test_img.shape)\n",
    "print('finished the processing of images')\n",
    "# classifier = model = LinearSVC(C=100.0, random_state = 42)\n",
    "classifier = LinearSVC(C=100.0, random_state = 42)\n",
    "\n",
    "classifier.fit(train_img, train_lab)\n",
    "print('fit the model')\n",
    "\n",
    "pre_labs = classifier.predict(test_img)\n",
    "print(\"Classification report for classifier %s:\\n%s\\n\" % (classifier, metrics.classification_report(test_lab, pre_labs)))"
   ]
  },
  {
   "cell_type": "code",
   "execution_count": 5,
   "metadata": {},
   "outputs": [
    {
     "name": "stderr",
     "output_type": "stream",
     "text": [
      "/home/bob/.virtualenvs/virtual-py3/lib/python3.5/site-packages/matplotlib/axes/_axes.py:6521: MatplotlibDeprecationWarning: \n",
      "The 'normed' kwarg was deprecated in Matplotlib 2.1 and will be removed in 3.1. Use 'density' instead.\n",
      "  alternative=\"'density'\", removal=\"3.1\")\n"
     ]
    },
    {
     "name": "stdout",
     "output_type": "stream",
     "text": [
      "Support Vector Classifier :  0.2802\n"
     ]
    },
    {
     "data": {
      "image/png": "[encoded data removed]",
      "text/plain": [
       "<Figure size 432x288 with 1 Axes>"
      ]
     },
     "metadata": {
      "needs_background": "light"
     },
     "output_type": "display_data"
    },
    {
     "data": {
      "text/plain": [
       "<matplotlib.image.AxesImage at 0x7f189c3d66d8>"
      ]
     },
     "execution_count": 5,
     "metadata": {},
     "output_type": "execute_result"
    },
    {
     "data": {
      "image/png": "[encoded data removed]",
      "text/plain": [
       "<Figure size 432x288 with 1 Axes>"
      ]
     },
     "metadata": {
      "needs_background": "light"
     },
     "output_type": "display_data"
    }
   ],
   "source": [
    "svc_score = metrics.accuracy_score(test_lab,pre_labs)\n",
    "print(\"Support Vector Classifier : \", svc_score)\n",
    "\n",
    "trans = transforms.ToPILImage()\n",
    "images, labels = training_set.__getitem__(1)\n",
    "lbp = local_binary_pattern(images.numpy().squeeze(), n_points, radius, METHOD)\n",
    "\n",
    "plt.hist(lbp.ravel(), normed=True, bins=n_points+2, range=(0, n_points+2), color='0.5')\n",
    "plt.show()\n",
    "\n",
    "plt.imshow(lbp.astype(\"uint8\"))"
   ]
  }
 ],
 "metadata": {
  "kernelspec": {
   "display_name": "Python 3",
   "language": "python",
   "name": "python3"
  },
  "language_info": {
   "codemirror_mode": {
    "name": "ipython",
    "version": 3
   },
   "file_extension": ".py",
   "mimetype": "text/x-python",
   "name": "python",
   "nbconvert_exporter": "python",
   "pygments_lexer": "ipython3",
   "version": "3.5.2"
  }
 },
 "nbformat": 4,
 "nbformat_minor": 2
}
